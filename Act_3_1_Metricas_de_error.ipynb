{
  "nbformat": 4,
  "nbformat_minor": 0,
  "metadata": {
    "colab": {
      "provenance": [],
      "include_colab_link": true
    },
    "kernelspec": {
      "name": "python3",
      "display_name": "Python 3"
    },
    "language_info": {
      "name": "python"
    }
  },
  "cells": [
    {
      "cell_type": "markdown",
      "metadata": {
        "id": "view-in-github",
        "colab_type": "text"
      },
      "source": [
        "<a href=\"https://colab.research.google.com/github/jonatansg/CEIABD/blob/main/Act_3_1_Metricas_de_error.ipynb\" target=\"_parent\"><img src=\"https://colab.research.google.com/assets/colab-badge.svg\" alt=\"Open In Colab\"/></a>"
      ]
    },
    {
      "cell_type": "markdown",
      "source": [
        "Autor: Jonatan Santana González"
      ],
      "metadata": {
        "id": "aotmuJQaJGZm"
      }
    },
    {
      "cell_type": "markdown",
      "source": [
        "24_25\n",
        "\n",
        "Actividad 3.1 - Métricas de error para los problemas de regresión\n",
        "\n",
        "A partir de los ejemplos indicados realizar los ejercicios propuestos"
      ],
      "metadata": {
        "id": "irnc2RYVuYVU"
      }
    },
    {
      "cell_type": "code",
      "execution_count": null,
      "metadata": {
        "colab": {
          "base_uri": "https://localhost:8080/"
        },
        "id": "jVLFdfzxdsfG",
        "outputId": "a622bcb3-795c-4d30-c8f2-a19d53d8aa44"
      },
      "outputs": [
        {
          "output_type": "execute_result",
          "data": {
            "text/plain": [
              "0.0"
            ]
          },
          "metadata": {},
          "execution_count": 1
        }
      ],
      "source": [
        "#Error absoluto medio - mae\n",
        "from sklearn.metrics import mean_absolute_error\n",
        "# Ejemplo 1\n",
        "y_true = [2.5, 0, 2, 8]\n",
        "y_pred = [2.5, 0, 2, 8]\n",
        "mean_absolute_error(y_true, y_pred)"
      ]
    },
    {
      "cell_type": "markdown",
      "source": [
        "El Error Absoluto Medio (MAE) mide el promedio de los errores absolutos entre los valores reales y las predicciones. En el caso anterior, dado que los valores reales y las predicciones son idénticos, los errores individuales serán todos 0."
      ],
      "metadata": {
        "id": "sxV9sXqhJ_Jd"
      }
    },
    {
      "cell_type": "code",
      "source": [
        "# Ejer 1: Crear dos vectores/arrays de valores ciertos y valores previstos, y calcular el mae.\n",
        "y_true = [3.2, 4.1, 5.8, 9]\n",
        "y_pred = [3, 4.5, 6, 8.2]\n",
        "mean_absolute_error(y_true, y_pred)"
      ],
      "metadata": {
        "id": "67XK1bXegMai",
        "colab": {
          "base_uri": "https://localhost:8080/"
        },
        "outputId": "eb69e6e3-20ca-4dc8-fc98-48f83e7a83cc"
      },
      "execution_count": null,
      "outputs": [
        {
          "output_type": "execute_result",
          "data": {
            "text/plain": [
              "0.40000000000000036"
            ]
          },
          "metadata": {},
          "execution_count": 36
        }
      ]
    },
    {
      "cell_type": "code",
      "source": [
        "# ¿Qué valores deberían de tener el array pred para que el error fuese 0?\n",
        "y_true = [3.2, 4.1, 5.8, 9]\n",
        "y_pred = [3.2, 4.1, 5.8, 9]\n",
        "mean_absolute_error(y_true, y_pred)"
      ],
      "metadata": {
        "colab": {
          "base_uri": "https://localhost:8080/"
        },
        "id": "WaBSb0HbL6aB",
        "outputId": "c2f8c7bf-02fa-40ad-a206-9d71d3240c7f"
      },
      "execution_count": null,
      "outputs": [
        {
          "output_type": "execute_result",
          "data": {
            "text/plain": [
              "0.0"
            ]
          },
          "metadata": {},
          "execution_count": 18
        }
      ]
    },
    {
      "cell_type": "markdown",
      "source": [
        "Para que el Error Absoluto Medio (MAE) sea igual a 0, los valores del array de predicciones (y_pred) deben ser exactamente iguales a los valores del array real (y_true)."
      ],
      "metadata": {
        "id": "6QZgvRuBMG4R"
      }
    },
    {
      "cell_type": "code",
      "source": [
        "#¿Y para que error fuese de 0.25?\n",
        "y_true = [3.2, 4.1, 5.8, 9]\n",
        "y_pred = [3.0, 4.3, 5.5, 9.3]\n",
        "mean_absolute_error(y_true, y_pred)"
      ],
      "metadata": {
        "colab": {
          "base_uri": "https://localhost:8080/"
        },
        "id": "kJcS-PFJMRx7",
        "outputId": "da9bf45e-6486-4d71-cf4f-5f883aab1942"
      },
      "execution_count": null,
      "outputs": [
        {
          "output_type": "execute_result",
          "data": {
            "text/plain": [
              "0.2500000000000002"
            ]
          },
          "metadata": {},
          "execution_count": 28
        }
      ]
    },
    {
      "cell_type": "markdown",
      "source": [
        "Para que el Error Absoluto Medio (MAE) sea exactamente 0.25, el promedio de los errores absolutos entre los valores reales (y_true) y las predicciones (y_pred) debe ser igual a 0.25. Esto significa que la suma de los errores absolutos dividida por el número total de elementos (𝑛) debe ser 0.25"
      ],
      "metadata": {
        "id": "K26Pm_XYOP-R"
      }
    },
    {
      "cell_type": "code",
      "source": [
        "# Ejemplo 2\n",
        "y_true = [[0.5, 1], [-1, 1], [7, -6]]\n",
        "y_pred = [[0, 2], [-1, 2], [8, -5]]\n",
        "mean_absolute_error(y_true, y_pred)"
      ],
      "metadata": {
        "id": "3LhzsD30f60T",
        "colab": {
          "base_uri": "https://localhost:8080/"
        },
        "outputId": "80f25ade-ba1e-43e3-987f-7c82bf560075"
      },
      "execution_count": null,
      "outputs": [
        {
          "output_type": "execute_result",
          "data": {
            "text/plain": [
              "0.75"
            ]
          },
          "metadata": {},
          "execution_count": 29
        }
      ]
    },
    {
      "cell_type": "markdown",
      "source": [
        "Cuando se calcula el Error Absoluto Medio (MAE) con matrices en lugar de vectores, el cálculo se realiza considerando todos los elementos como una lista aplanada (es decir, cada elemento de las sublistas se trata como un único valor)."
      ],
      "metadata": {
        "id": "_W-EdEJiQGGM"
      }
    },
    {
      "cell_type": "code",
      "source": [
        "# Ejer 2: Crear dos matrices/arrays de valores ciertos y valores previstos, y calcular el mae.\n",
        "y_true = [[2.5, 3, 4], [1.5, 2, 3.5]]\n",
        "y_pred = [[2, 3.5, 4], [1, 2.5, 3]]\n",
        "mean_absolute_error(y_true, y_pred)"
      ],
      "metadata": {
        "id": "LnPx6A4Astfq",
        "colab": {
          "base_uri": "https://localhost:8080/"
        },
        "outputId": "b7bb5993-cfd5-4e97-b625-8d3ac711cc51"
      },
      "execution_count": null,
      "outputs": [
        {
          "output_type": "execute_result",
          "data": {
            "text/plain": [
              "0.4166666666666667"
            ]
          },
          "metadata": {},
          "execution_count": 31
        }
      ]
    },
    {
      "cell_type": "code",
      "source": [
        "# ¿Qué valores deberían de tener el array pred para que el error fuese 0?\n",
        "y_true = [[2.5, 3, 4], [1.5, 2, 3.5]]\n",
        "y_pred = [[2.5, 3, 4], [1.5, 2, 3.5]]\n",
        "mean_absolute_error(y_true, y_pred)"
      ],
      "metadata": {
        "colab": {
          "base_uri": "https://localhost:8080/"
        },
        "id": "vSystOScQn9T",
        "outputId": "69bb635b-5055-452a-9298-5308529e9990"
      },
      "execution_count": null,
      "outputs": [
        {
          "output_type": "execute_result",
          "data": {
            "text/plain": [
              "0.0"
            ]
          },
          "metadata": {},
          "execution_count": 33
        }
      ]
    },
    {
      "cell_type": "code",
      "source": [
        "#¿Y para que error fuese de 0.33?\n",
        "y_true = [[2.5, 3.0, 4.0], [1.5, 2.0, 3.5]]\n",
        "y_pred = [[2.17, 3.33, 4.33], [1.17, 2.33, 3.83]]\n",
        "mean_absolute_error(y_true, y_pred)"
      ],
      "metadata": {
        "colab": {
          "base_uri": "https://localhost:8080/"
        },
        "id": "37SJMqtCRTIC",
        "outputId": "893ec0f8-a2e4-47ae-eea5-522ec3485f5e"
      },
      "execution_count": null,
      "outputs": [
        {
          "output_type": "execute_result",
          "data": {
            "text/plain": [
              "0.33000000000000007"
            ]
          },
          "metadata": {},
          "execution_count": 32
        }
      ]
    },
    {
      "cell_type": "code",
      "source": [
        "# Error cuadrático medio - mse\n",
        "from sklearn.metrics import mean_squared_error\n",
        "y_true = [3, -0.5, 2, 7]\n",
        "y_pred = [2.5, 0.0, 2, 8]\n",
        "mean_squared_error(y_true, y_pred)"
      ],
      "metadata": {
        "colab": {
          "base_uri": "https://localhost:8080/"
        },
        "id": "59efr-GWgKP6",
        "outputId": "168d4219-9b06-4ff7-9bf4-cd9f5f5da58d"
      },
      "execution_count": null,
      "outputs": [
        {
          "output_type": "execute_result",
          "data": {
            "text/plain": [
              "0.375"
            ]
          },
          "metadata": {},
          "execution_count": 35
        }
      ]
    },
    {
      "cell_type": "markdown",
      "source": [
        "El Error Cuadrático Medio (MSE) se calcula como la media de los cuadrados de las diferencias entre los valores reales y los valores previstos."
      ],
      "metadata": {
        "id": "yJZJIvCQSZiC"
      }
    },
    {
      "cell_type": "code",
      "source": [
        "# Ejer 3: Crear dos vectores/arrays de valores ciertos y valores previstos, y calcular el mse.\n",
        "y_true = [3.2, 4.1, 5.8, 9]\n",
        "y_pred = [3, 4.5, 6, 8.2]\n",
        "mean_squared_error(y_true, y_pred)\n",
        "\n",
        "# Nota: Es muy interesante comparar los resultados al aplicaer mae y mse sobre el mismo conjunto de datos. Podrás obervar\n",
        "#que mse \"penaliza más\" (es decir, el número que se obtiene es mayor) con las diferencias entre los valores originales y los predichos que mae\n"
      ],
      "metadata": {
        "id": "FLZt6j17u7sE",
        "colab": {
          "base_uri": "https://localhost:8080/"
        },
        "outputId": "1289860d-9cc5-449a-d230-91604edb3210"
      },
      "execution_count": null,
      "outputs": [
        {
          "output_type": "execute_result",
          "data": {
            "text/plain": [
              "0.2200000000000004"
            ]
          },
          "metadata": {},
          "execution_count": 37
        }
      ]
    },
    {
      "cell_type": "code",
      "source": [
        "# ¿Qué valores deberían de tener el array pred para que el error fuese 0?\n",
        "y_true = [3.2, 4.1, 5.8, 9]\n",
        "y_pred = [3.2, 4.1, 5.8, 9]\n",
        "mean_squared_error(y_true, y_pred)"
      ],
      "metadata": {
        "colab": {
          "base_uri": "https://localhost:8080/"
        },
        "id": "wJ6JPi8XTXnw",
        "outputId": "ea36362d-5255-4549-b884-6705b1418d6d"
      },
      "execution_count": null,
      "outputs": [
        {
          "output_type": "execute_result",
          "data": {
            "text/plain": [
              "0.0"
            ]
          },
          "metadata": {},
          "execution_count": 39
        }
      ]
    },
    {
      "cell_type": "markdown",
      "source": [
        "Para que el Error Cuadrático Medio (MSE) sea exactamente 0, las predicciones y_pred deben ser idénticas a los valores verdaderos y_true. Es decir, cada valor de y_pred debe coincidir con su correspondiente valor en y_true para que la diferencia entre ellos sea 0, y así el cuadrado de esa diferencia también sea 0."
      ],
      "metadata": {
        "id": "mRiYdAR2Xwow"
      }
    },
    {
      "cell_type": "code",
      "source": [
        "#¿Y para que error fuese de 0.25?\n",
        "y_true = [3.2, 4.1, 5.8, 9]\n",
        "y_pred = [3.745, 4.53, 5.45, 9.63]\n",
        "mean_squared_error(y_true, y_pred)"
      ],
      "metadata": {
        "colab": {
          "base_uri": "https://localhost:8080/"
        },
        "id": "Iqx0wrByTaFM",
        "outputId": "86ad899d-dd09-44e2-f912-23e1986f3095"
      },
      "execution_count": 103,
      "outputs": [
        {
          "output_type": "execute_result",
          "data": {
            "text/plain": [
              "0.2503312500000003"
            ]
          },
          "metadata": {},
          "execution_count": 103
        }
      ]
    },
    {
      "cell_type": "markdown",
      "source": [
        "Para que el Error Cuadrático Medio (MSE) sea exactamente 0.25, necesitamos asegurarnos de que la suma de los cuadrados de las diferencias entre los valores reales (y_true) y los valores previstos (y_pred) sea igual a\n",
        "0.25 × 𝑛, donde 𝑛 es el número total de elementos."
      ],
      "metadata": {
        "id": "Peu7BOHgUGKp"
      }
    },
    {
      "cell_type": "code",
      "source": [
        "# Ejer 4: Crear dos matrices/arrays de valores ciertos y valores previstos, y calcular el mse.\n",
        "y_true = [[2.5, 3, 4], [1.5, 2, 3.5]]\n",
        "y_pred = [[2, 3.5, 4], [1, 2.5, 3]]\n",
        "mean_squared_error(y_true, y_pred)"
      ],
      "metadata": {
        "id": "M9nZd4nLvIRB",
        "colab": {
          "base_uri": "https://localhost:8080/"
        },
        "outputId": "6155c2c4-2ebb-4b71-93aa-5aced78a7667"
      },
      "execution_count": 104,
      "outputs": [
        {
          "output_type": "execute_result",
          "data": {
            "text/plain": [
              "0.20833333333333334"
            ]
          },
          "metadata": {},
          "execution_count": 104
        }
      ]
    },
    {
      "cell_type": "code",
      "source": [
        "# ¿Qué valores deberían de tener el array pred para que el error fuese 0?\n",
        "y_true = [[2.5, 3, 4], [1.5, 2, 3.5]]\n",
        "y_pred = [[2.5, 3, 4], [1.5, 2, 3.5]]\n",
        "mean_squared_error(y_true, y_pred)"
      ],
      "metadata": {
        "colab": {
          "base_uri": "https://localhost:8080/"
        },
        "id": "q_4VY8wWYzob",
        "outputId": "db52c5e1-f2e2-4d0e-d842-15136eaa5379"
      },
      "execution_count": 113,
      "outputs": [
        {
          "output_type": "execute_result",
          "data": {
            "text/plain": [
              "0.0"
            ]
          },
          "metadata": {},
          "execution_count": 113
        }
      ]
    },
    {
      "cell_type": "code",
      "source": [
        "#¿Y para que error fuese de 0.33?\n",
        "y_true = [[2.5, 3, 4], [1.5, 2, 3.5]]\n",
        "y_pred = [[2, 3.6, 4.7], [1.1, 2.8, 3.2]]\n",
        "mean_squared_error(y_true, y_pred)"
      ],
      "metadata": {
        "colab": {
          "base_uri": "https://localhost:8080/"
        },
        "id": "QOyckB29ZlcR",
        "outputId": "413bd52d-53e5-4449-b37d-cbb07c199795"
      },
      "execution_count": 112,
      "outputs": [
        {
          "output_type": "execute_result",
          "data": {
            "text/plain": [
              "0.3316666666666666"
            ]
          },
          "metadata": {},
          "execution_count": 112
        }
      ]
    },
    {
      "cell_type": "code",
      "source": [
        "# Error de porcentaje absoluto medio - mape\n",
        "from sklearn.metrics import mean_absolute_percentage_error\n",
        "y_true = [3, -0.5, 2, 7]\n",
        "y_pred = [2.5, 0.0, 2, 8]\n",
        "mean_absolute_percentage_error(y_true, y_pred)"
      ],
      "metadata": {
        "colab": {
          "base_uri": "https://localhost:8080/"
        },
        "id": "0j3DDJPnBTmF",
        "outputId": "82ceb2bd-578f-4b98-e18a-fdb86c84d637"
      },
      "execution_count": 114,
      "outputs": [
        {
          "output_type": "execute_result",
          "data": {
            "text/plain": [
              "0.3273809523809524"
            ]
          },
          "metadata": {},
          "execution_count": 114
        }
      ]
    },
    {
      "cell_type": "markdown",
      "source": [
        "El Error de Porcentaje Absoluto Medio (MAPE, por sus siglas en inglés: Mean Absolute Percentage Error) es una métrica utilizada para evaluar el rendimiento de un modelo de predicción. Mide la magnitud del error entre los valores predichos y los valores reales, expresada como un porcentaje del valor real. A diferencia del Error Absoluto Medio (MAE), el MAPE proporciona una forma de medir el error en términos relativos, lo que lo hace más fácil de interpretar cuando se comparan diferentes conjuntos de datos o problemas."
      ],
      "metadata": {
        "id": "Y7cp8MW5awBy"
      }
    },
    {
      "cell_type": "code",
      "source": [
        "# Ejer 5: Crear dos vectores/arrays de valores ciertos y valores previstos, y calcular el mape.\n",
        "y_true = [10, 20, 30, 40, 50]\n",
        "y_pred = [9.5, 21, 28, 39, 52]\n",
        "mean_absolute_percentage_error(y_true, y_pred)"
      ],
      "metadata": {
        "id": "0vsYXdRqB0TE",
        "colab": {
          "base_uri": "https://localhost:8080/"
        },
        "outputId": "a645f798-5bee-4aa9-8b3b-f7599ca998a9"
      },
      "execution_count": 115,
      "outputs": [
        {
          "output_type": "execute_result",
          "data": {
            "text/plain": [
              "0.04633333333333334"
            ]
          },
          "metadata": {},
          "execution_count": 115
        }
      ]
    },
    {
      "cell_type": "code",
      "source": [
        "# ¿Qué valores deberían de tener el array pred para que el error fuese 0?\n",
        "y_true = [10, 20, 30, 40, 50]\n",
        "y_pred = [10, 20, 30, 40, 50]\n",
        "mean_absolute_percentage_error(y_true, y_pred)"
      ],
      "metadata": {
        "colab": {
          "base_uri": "https://localhost:8080/"
        },
        "id": "g_thTAmAbJZC",
        "outputId": "f4384b7a-49ee-402e-ff97-34ac41bc7381"
      },
      "execution_count": 116,
      "outputs": [
        {
          "output_type": "execute_result",
          "data": {
            "text/plain": [
              "0.0"
            ]
          },
          "metadata": {},
          "execution_count": 116
        }
      ]
    },
    {
      "cell_type": "markdown",
      "source": [
        "Para que el Error de Porcentaje Absoluto Medio (MAPE) sea 0, los valores de y_pred deben ser exactamente iguales a los valores de y_true. Esto significa que para cada elemento en y_true, el valor correspondiente en y_pred debe ser idéntico."
      ],
      "metadata": {
        "id": "NibI2LhmbfEq"
      }
    },
    {
      "cell_type": "code",
      "source": [
        "# Ejer 6: Crear dos matrices/arrays de valores ciertos y valores previstos, y calcular el MAPE.\n",
        "y_true = [[2.5, 3.0], [1.5, 2.0], [4.5, 5.0]]\n",
        "y_pred = [[2.4, 3.1], [1.6, 2.1], [4.4, 5.1]]\n",
        "mean_absolute_percentage_error(y_true, y_pred)"
      ],
      "metadata": {
        "id": "085pmFVO-cA3",
        "colab": {
          "base_uri": "https://localhost:8080/"
        },
        "outputId": "5e2f87f1-3501-4229-8f23-4e45eea18cad"
      },
      "execution_count": 117,
      "outputs": [
        {
          "output_type": "execute_result",
          "data": {
            "text/plain": [
              "0.0387037037037037"
            ]
          },
          "metadata": {},
          "execution_count": 117
        }
      ]
    },
    {
      "cell_type": "code",
      "source": [
        "# ¿Qué valores deberían de tener el array pred para que el error fuese 0?\n",
        "y_true = [[2.5, 3.0], [1.5, 2.0], [4.5, 5.0]]\n",
        "y_pred = [[2.5, 3.0], [1.5, 2.0], [4.5, 5.0]]\n",
        "mean_absolute_percentage_error(y_true, y_pred)"
      ],
      "metadata": {
        "colab": {
          "base_uri": "https://localhost:8080/"
        },
        "id": "5dI9PsZnb0B9",
        "outputId": "ede19ffa-b7ae-4904-c461-6467228220e1"
      },
      "execution_count": 118,
      "outputs": [
        {
          "output_type": "execute_result",
          "data": {
            "text/plain": [
              "0.0"
            ]
          },
          "metadata": {},
          "execution_count": 118
        }
      ]
    },
    {
      "cell_type": "markdown",
      "source": [
        "Para que el Error de Porcentaje Absoluto Medio (MAPE) sea 0, los valores de y_pred deben ser exactamente iguales a los valores de y_true. Es decir, para cada elemento en y_true, el valor correspondiente en y_pred debe coincidir exactamente."
      ],
      "metadata": {
        "id": "umQvHOa3cTNe"
      }
    }
  ]
}