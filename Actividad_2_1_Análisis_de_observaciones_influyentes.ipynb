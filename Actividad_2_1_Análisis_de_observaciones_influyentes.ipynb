{
  "nbformat": 4,
  "nbformat_minor": 0,
  "metadata": {
    "colab": {
      "provenance": [],
      "include_colab_link": true
    },
    "kernelspec": {
      "name": "python3",
      "display_name": "Python 3"
    },
    "language_info": {
      "name": "python"
    }
  },
  "cells": [
    {
      "cell_type": "markdown",
      "metadata": {
        "id": "view-in-github",
        "colab_type": "text"
      },
      "source": [
        "<a href=\"https://colab.research.google.com/github/jonatansg/CEIABD/blob/main/Actividad_2_1_An%C3%A1lisis_de_observaciones_influyentes.ipynb\" target=\"_parent\"><img src=\"https://colab.research.google.com/assets/colab-badge.svg\" alt=\"Open In Colab\"/></a>"
      ]
    },
    {
      "cell_type": "markdown",
      "metadata": {
        "id": "JNlEk7ihS-5l"
      },
      "source": [
        "# **Actividad 2.1 – Análisis de observaciones influyentes**\n",
        "\n",
        "\n",
        "\n",
        "\n"
      ]
    },
    {
      "cell_type": "markdown",
      "metadata": {
        "id": "xqnJ20FMVhDE"
      },
      "source": [
        "## **1. Observaciones influyentes**\n"
      ]
    },
    {
      "cell_type": "code",
      "source": [
        "import numpy as np\n",
        "import pandas as pd\n",
        "import scipy.stats as st\n",
        "from sklearn.compose import ColumnTransformer\n",
        "from sklearn.preprocessing import MinMaxScaler    # Escalamiento por rangos\n",
        "from sklearn.preprocessing import StandardScaler  # Escalamiento Z"
      ],
      "metadata": {
        "id": "e6NC0HJ7Tl4Q"
      },
      "execution_count": 133,
      "outputs": []
    },
    {
      "cell_type": "code",
      "source": [
        "# Generamos (100 elementos) ingresos uniformemente distribuidos en [15000,25000]\n",
        "datos = 15000+np.random.rand(100)*10000\n",
        "datos_ord = datos\n",
        "datos_ord.sort()\n",
        "datos"
      ],
      "metadata": {
        "colab": {
          "base_uri": "https://localhost:8080/"
        },
        "id": "pqlQCn2tedRA",
        "outputId": "e11b27c0-a24f-49eb-8fa8-8245431bc0ee"
      },
      "execution_count": 134,
      "outputs": [
        {
          "output_type": "execute_result",
          "data": {
            "text/plain": [
              "array([15109.95828658, 15183.90676547, 15224.6930832 , 15265.32203874,\n",
              "       15311.83135061, 15469.65966775, 15514.25813484, 15751.37781736,\n",
              "       15827.98667925, 15915.82073327, 16065.98253134, 16177.5108289 ,\n",
              "       16368.18630919, 16368.85630069, 16393.56074073, 16401.13175766,\n",
              "       16662.83368756, 16716.79285848, 16753.71278623, 16814.3543509 ,\n",
              "       17064.21271761, 17078.86255146, 17149.40378591, 17453.49109681,\n",
              "       17464.02033239, 17578.87685433, 17594.23433431, 17622.640443  ,\n",
              "       17680.63640823, 17686.77359385, 17721.4513723 , 17723.07326519,\n",
              "       17740.55220687, 17886.93736771, 17944.65759542, 17971.21715623,\n",
              "       18342.43890817, 18418.17351698, 18556.72716465, 18609.7389694 ,\n",
              "       18796.92408167, 18831.38528249, 18892.95614042, 19094.11652191,\n",
              "       19187.70524892, 19214.24550592, 19252.13504469, 19348.27338604,\n",
              "       19361.26529135, 19460.05772958, 19760.50402199, 19874.3119825 ,\n",
              "       19954.91316206, 19963.66247201, 20189.17705283, 20256.90182303,\n",
              "       20416.34214661, 20520.47180852, 20541.78002516, 20664.04640297,\n",
              "       20765.16475514, 20830.4156097 , 20902.30666869, 20902.94942515,\n",
              "       20950.779307  , 20968.42848917, 20974.1310217 , 21005.16860434,\n",
              "       21031.52109466, 21241.48907849, 21334.78219826, 21514.20388352,\n",
              "       21636.71165363, 21650.36674546, 21884.02396428, 21946.96470854,\n",
              "       22190.45905184, 22281.88756204, 22325.7209721 , 22380.33616426,\n",
              "       22636.0579416 , 22709.12203746, 22994.15878969, 22998.55255947,\n",
              "       23174.43561738, 23191.02317674, 23297.41803707, 23349.30236799,\n",
              "       23684.67975898, 23738.90077563, 23926.71711077, 23945.52226894,\n",
              "       24000.18641848, 24142.9880656 , 24144.11945925, 24173.13575462,\n",
              "       24368.29739325, 24484.53306962, 24502.37353821, 24844.02180704])"
            ]
          },
          "metadata": {},
          "execution_count": 134
        }
      ]
    },
    {
      "cell_type": "markdown",
      "source": [
        "### **a) Calcular la media y la mediana antes de realizar la modificación de incluir unos ingresos de 500.000€**\n",
        "\n"
      ],
      "metadata": {
        "id": "ayRFJ682gR2B"
      }
    },
    {
      "cell_type": "code",
      "metadata": {
        "colab": {
          "base_uri": "https://localhost:8080/"
        },
        "id": "V-xhWMdvdf1H",
        "outputId": "6aaf7258-38b0-459c-c80f-7be682dce7f2"
      },
      "source": [
        "media=  np.mean(datos)\n",
        "mediana=  np.median (datos) # Es el valor central cuando los datos se ordenan\n",
        "print(f\" Media= {media} y Mediana={mediana}\")"
      ],
      "execution_count": 135,
      "outputs": [
        {
          "output_type": "stream",
          "name": "stdout",
          "text": [
            " Media= 19711.90388386042 y Mediana=19610.280875785276\n"
          ]
        }
      ]
    },
    {
      "cell_type": "code",
      "source": [
        "# Simulamos (porque se lo asignamos en la siguiente línea) que el vecino 50 tiene unos ingresos significativamente mayores que el resto\n",
        "datos[50]=500000\n",
        "datos"
      ],
      "metadata": {
        "colab": {
          "base_uri": "https://localhost:8080/"
        },
        "id": "_DrjM5WuH2HY",
        "outputId": "5c272d28-9a3c-453f-e4bb-fb265cf30201"
      },
      "execution_count": 136,
      "outputs": [
        {
          "output_type": "execute_result",
          "data": {
            "text/plain": [
              "array([ 15109.95828658,  15183.90676547,  15224.6930832 ,  15265.32203874,\n",
              "        15311.83135061,  15469.65966775,  15514.25813484,  15751.37781736,\n",
              "        15827.98667925,  15915.82073327,  16065.98253134,  16177.5108289 ,\n",
              "        16368.18630919,  16368.85630069,  16393.56074073,  16401.13175766,\n",
              "        16662.83368756,  16716.79285848,  16753.71278623,  16814.3543509 ,\n",
              "        17064.21271761,  17078.86255146,  17149.40378591,  17453.49109681,\n",
              "        17464.02033239,  17578.87685433,  17594.23433431,  17622.640443  ,\n",
              "        17680.63640823,  17686.77359385,  17721.4513723 ,  17723.07326519,\n",
              "        17740.55220687,  17886.93736771,  17944.65759542,  17971.21715623,\n",
              "        18342.43890817,  18418.17351698,  18556.72716465,  18609.7389694 ,\n",
              "        18796.92408167,  18831.38528249,  18892.95614042,  19094.11652191,\n",
              "        19187.70524892,  19214.24550592,  19252.13504469,  19348.27338604,\n",
              "        19361.26529135,  19460.05772958, 500000.        ,  19874.3119825 ,\n",
              "        19954.91316206,  19963.66247201,  20189.17705283,  20256.90182303,\n",
              "        20416.34214661,  20520.47180852,  20541.78002516,  20664.04640297,\n",
              "        20765.16475514,  20830.4156097 ,  20902.30666869,  20902.94942515,\n",
              "        20950.779307  ,  20968.42848917,  20974.1310217 ,  21005.16860434,\n",
              "        21031.52109466,  21241.48907849,  21334.78219826,  21514.20388352,\n",
              "        21636.71165363,  21650.36674546,  21884.02396428,  21946.96470854,\n",
              "        22190.45905184,  22281.88756204,  22325.7209721 ,  22380.33616426,\n",
              "        22636.0579416 ,  22709.12203746,  22994.15878969,  22998.55255947,\n",
              "        23174.43561738,  23191.02317674,  23297.41803707,  23349.30236799,\n",
              "        23684.67975898,  23738.90077563,  23926.71711077,  23945.52226894,\n",
              "        24000.18641848,  24142.9880656 ,  24144.11945925,  24173.13575462,\n",
              "        24368.29739325,  24484.53306962,  24502.37353821,  24844.02180704])"
            ]
          },
          "metadata": {},
          "execution_count": 136
        }
      ]
    },
    {
      "cell_type": "markdown",
      "source": [
        "### **b) Aplicar el método de Probabilidad global, para detectar los outliers**"
      ],
      "metadata": {
        "id": "KWZNffk-f-Aq"
      }
    },
    {
      "cell_type": "code",
      "source": [
        "# CRITERIO 1: PROBABILIDAD GLOBAL\n",
        "# Asumiendo que las variables tiene una distribución normal.\n",
        "# Probabilidad de la muestra de estar dentro de las bandas\n",
        "p_g=0.95\n",
        "# probabilidad global\n",
        "alfa_g=(1-p_g)/2\n",
        "# probabilidad  para un solo dato\n",
        "alfa= 1-(1-alfa_g)**(1/len(datos)) # Se realiza este ajuste para ser más precisos.\n",
        "#alfa = alfa_g # Si no realiza la corrección de la línea anterior entonces hubiese detectado más valores que son outliers cuando realmente no lo son. Descomentar esta línea para ver el resultado, que es el mismo que el obtenidoi con el método 2 de este código.\n",
        "                # con esta corrección lo que se pretende es obtener bandas lo sificientemente anchas."
      ],
      "metadata": {
        "id": "8UZKgwmC1Q9L"
      },
      "execution_count": 137,
      "outputs": []
    },
    {
      "cell_type": "code",
      "source": [
        "## CRITERIO 2:  Criterio Chauvenet\n",
        "# El uso del Criterio de Chauvenet es controvertido en algunas áreas de la estadística, ya que puede llevar a descartar datos válidos,\n",
        "# especialmente en conjuntos de datos pequeños o en situaciones donde los datos no siguen una distribución normal.\n",
        "# Por lo tanto, debe usarse con precaución y teniendo en cuenta el contexto específico de los datos analizados.\n",
        "\n",
        "#alfa=1/(2*len(datos))\n",
        "Z_alfa=st.norm.ppf(1-alfa/2)\n"
      ],
      "metadata": {
        "id": "rypGuEfJIdrb"
      },
      "execution_count": 138,
      "outputs": []
    },
    {
      "cell_type": "code",
      "source": [
        "# Impresión de resultados\n",
        "alfa=round(alfa,5)\n",
        "Z_alfa=round(Z_alfa,5)\n",
        "print(f\" Alfa ={alfa}\")\n",
        "print(f\" Z_alfa ={Z_alfa}\")"
      ],
      "metadata": {
        "colab": {
          "base_uri": "https://localhost:8080/"
        },
        "id": "LYm2pb21npx9",
        "outputId": "02725ab0-149c-4c27-89c1-a1a1fd519d34"
      },
      "execution_count": 139,
      "outputs": [
        {
          "output_type": "stream",
          "name": "stdout",
          "text": [
            " Alfa =0.00025\n",
            " Z_alfa =3.65906\n"
          ]
        }
      ]
    },
    {
      "cell_type": "code",
      "source": [
        "# Utilizaremos el Criterio 1 ó el Criterio 2 para calcular alfa y Z-alfa en función de la naturaleza de los datos que estamos procesando.\n",
        "xL=  round(np.mean(datos) - Z_alfa * np.std(datos),4)\n",
        "xU=  round(np.mean(datos) + Z_alfa * np.std(datos),4)\n",
        "print(f\" Banda= [ {xL},{xU}]\")"
      ],
      "metadata": {
        "colab": {
          "base_uri": "https://localhost:8080/"
        },
        "id": "VYgI50QlqDRn",
        "outputId": "6adffeb9-485b-4d8d-f4a4-4ec38a343ac2"
      },
      "execution_count": 140,
      "outputs": [
        {
          "output_type": "stream",
          "name": "stdout",
          "text": [
            " Banda= [ -150638.9646,199667.5623]\n"
          ]
        }
      ]
    },
    {
      "cell_type": "code",
      "source": [
        "for i in  range(len(datos)):\n",
        "        if datos[i] < xL  or datos[i]>xU:\n",
        "          print(f\" El dato[{i}]={datos[i]} es un outlier\")"
      ],
      "metadata": {
        "colab": {
          "base_uri": "https://localhost:8080/"
        },
        "id": "F1Gt6szNqbbU",
        "outputId": "5b933de7-411c-4b4c-f9b7-b6a40cc9ee5f"
      },
      "execution_count": 141,
      "outputs": [
        {
          "output_type": "stream",
          "name": "stdout",
          "text": [
            " El dato[50]=500000.0 es un outlier\n"
          ]
        }
      ]
    },
    {
      "cell_type": "markdown",
      "source": [
        "### **c) Repetir el mismo procedimiento de detectar los outliers para la mediana: ¿Qué ocurre?**"
      ],
      "metadata": {
        "id": "1WEBiVsIpCbz"
      }
    },
    {
      "cell_type": "code",
      "source": [
        "xL_median= round(np.median(datos) - Z_alfa * np.std(datos),4)\n",
        "xU_median= round(np.median(datos) + Z_alfa * np.std(datos),4)\n",
        "\n",
        "# Detectar outliers basados en la mediana\n",
        "for i in range(len(datos)):\n",
        "    if datos[i] < xL_median or datos[i] > xU_median:\n",
        "        print(f\" El dato[{i}]={datos[i]} es un outlier (según mediana)\")\n"
      ],
      "metadata": {
        "colab": {
          "base_uri": "https://localhost:8080/"
        },
        "id": "sKGWFaG5poxD",
        "outputId": "898feb07-76ef-4e20-fbf2-511e56440b46"
      },
      "execution_count": 142,
      "outputs": [
        {
          "output_type": "stream",
          "name": "stdout",
          "text": [
            " El dato[50]=500000.0 es un outlier (según mediana)\n"
          ]
        }
      ]
    },
    {
      "cell_type": "markdown",
      "source": [
        "La mediana es menos sensible a los valores extremos. Este cambio debería hacer que el número de outliers detectados sea diferente al usar la media, y podría reducir el número de outliers detectados si la distribución tiene valores extremos que afectan la media. Aunque en este ejercicio el outlier es el mismo."
      ],
      "metadata": {
        "id": "eyflt4J2tJ_4"
      }
    },
    {
      "cell_type": "markdown",
      "source": [
        "## **2. Escalamiento de datos**"
      ],
      "metadata": {
        "id": "Si5cxfpJt6YU"
      }
    },
    {
      "cell_type": "markdown",
      "source": [
        "Considerar que la variable X toma los valores 1,2,3,4,5,6,7,8,9,10."
      ],
      "metadata": {
        "id": "sQCL2El6uDb2"
      }
    },
    {
      "cell_type": "markdown",
      "source": [
        "### **a) ¿Cuánto vale la media, mediana, la desviación estándar muestral, la varianza muestral y el rango de la variable X?**"
      ],
      "metadata": {
        "id": "kDW9FG93uMEz"
      }
    },
    {
      "cell_type": "code",
      "source": [
        "# Variable X (1 a 10)\n",
        "X = np.array([1, 2, 3, 4, 5, 6, 7, 8, 9, 10])\n",
        "\n",
        "media_X = np.mean(X)\n",
        "mediana_X = np.median(X)\n",
        "desviacion_estandar_X = np.std(X, ddof=1)\n",
        "varianza_X = np.var(X, ddof=1)\n",
        "rango_X = np.ptp(X)\n",
        "\n",
        "# Mostrar los resultados\n",
        "print(\"Media:\", media_X)\n",
        "print(\"Mediana:\", mediana_X)\n",
        "print(\"Desviación estándar muestral:\", desviacion_estandar_X)\n",
        "print(\"Varianza muestral:\", varianza_X)\n",
        "print(\"Rango:\", rango_X)"
      ],
      "metadata": {
        "colab": {
          "base_uri": "https://localhost:8080/"
        },
        "id": "PzakkFr0uy9_",
        "outputId": "07654727-3c32-45dc-979b-ad3736350cd2"
      },
      "execution_count": 143,
      "outputs": [
        {
          "output_type": "stream",
          "name": "stdout",
          "text": [
            "Media: 5.5\n",
            "Mediana: 5.5\n",
            "Desviación estándar muestral: 3.0276503540974917\n",
            "Varianza muestral: 9.166666666666666\n",
            "Rango: 9\n"
          ]
        }
      ]
    },
    {
      "cell_type": "markdown",
      "source": [
        "### **b) Utilizar la función describe() de Panda, para obtener la media, desviación estándar, etc…**"
      ],
      "metadata": {
        "id": "KZTuS0Sdv940"
      }
    },
    {
      "cell_type": "code",
      "source": [
        "print(pd.DataFrame(X).describe())"
      ],
      "metadata": {
        "colab": {
          "base_uri": "https://localhost:8080/"
        },
        "id": "FryyRlMZwC6L",
        "outputId": "9f55541c-5ef8-40ba-b326-d72566f2c7a3"
      },
      "execution_count": 144,
      "outputs": [
        {
          "output_type": "stream",
          "name": "stdout",
          "text": [
            "              0\n",
            "count  10.00000\n",
            "mean    5.50000\n",
            "std     3.02765\n",
            "min     1.00000\n",
            "25%     3.25000\n",
            "50%     5.50000\n",
            "75%     7.75000\n",
            "max    10.00000\n"
          ]
        }
      ]
    },
    {
      "cell_type": "markdown",
      "source": [
        "### **c) ¿Por qué el resultado de calcular la desviación estándar con Numpy es diferente a la calculada por describe de Panda? ¿Qué ajuste sería necesario realizar para que los resultados fuesen similares/iguales?**"
      ],
      "metadata": {
        "id": "6rwwg2-6wUhY"
      }
    },
    {
      "cell_type": "markdown",
      "source": [
        "La diferencia entre el cálculo de la desviación estándar utilizando NumPy y Pandas se debe al ajuste de grados de libertad que se utiliza en cada caso.\n",
        "\n",
        "En NumPy, cuando calculas la desviación estándar con np.std(), por defecto se utiliza el denominador 𝑁, donde 𝑁 es el número total de elementos. Esto se refiere a la desviación estándar de la población.\n",
        "\n",
        "La función describe() de Pandas usa por defecto el denominador 𝑁 − 1 (con el parámetro ddof=1), que es el ajuste muestral. Esto se hace para corregir el sesgo que puede ocurrir al estimar la desviación estándar de una población completa a partir de una muestra. Esta corrección se llama Bessel's correction.\n",
        "\n",
        "Para que los resultados de la desviación estándar calculados con NumPy y Pandas sean iguales, se debe ajustar el parámetro ddof en NumPy para que use\n",
        "𝑁 − 1 como denominador, al igual que Pandas."
      ],
      "metadata": {
        "id": "ToFzFCUGwyw4"
      }
    },
    {
      "cell_type": "code",
      "source": [
        "# Cálculo con numpy (muestral)\n",
        "std_numpy_muestral = np.std(X, ddof=1)\n",
        "\n",
        "# Cálculo con pandas\n",
        "std_pandas = pd.Series(X).std()\n",
        "\n",
        "print(f\"Desviación estándar con Numpy (muestral): {std_numpy_muestral}\")\n",
        "print(f\"Desviación estándar con Pandas: {std_pandas}\")"
      ],
      "metadata": {
        "colab": {
          "base_uri": "https://localhost:8080/"
        },
        "id": "5m5yhSONxDec",
        "outputId": "33e5510b-3939-4c8a-fadd-9ff0e88e79c8"
      },
      "execution_count": 145,
      "outputs": [
        {
          "output_type": "stream",
          "name": "stdout",
          "text": [
            "Desviación estándar con Numpy (muestral): 3.0276503540974917\n",
            "Desviación estándar con Pandas: 3.0276503540974917\n"
          ]
        }
      ]
    },
    {
      "cell_type": "markdown",
      "source": [
        "### **d) Estandarizar la variable (escalamiento) mediante rangos y a continuación calcular la media y la mediana de la variable escalada**"
      ],
      "metadata": {
        "id": "RHespKhbxfiv"
      }
    },
    {
      "cell_type": "code",
      "source": [
        "Data = pd.DataFrame(X, columns=['X'])\n",
        "\n",
        "# Escalamiento\n",
        "# ==============================================================================\n",
        "# Selección de columnas numéricas\n",
        "numeric_cols = Data.select_dtypes(include=['float64', 'int']).columns.to_list()\n",
        "\n",
        "# MinMaxScaler - Estandarización por rangos\n",
        "preprocessor_RR = ColumnTransformer(\n",
        "                   [('scale', MinMaxScaler(), numeric_cols)],remainder='passthrough')\n",
        "\n",
        "Data_prep_RR = preprocessor_RR.fit_transform(Data)\n",
        "\n",
        "# Creación de DataFrame\n",
        "Data_scaled_Range = pd.DataFrame(Data_prep_RR, columns=numeric_cols)\n",
        "\n",
        "# Cálculo de media y mediana de las variables escaladas\n",
        "media_Range = Data_scaled_Range.mean()\n",
        "mediana_Range = Data_scaled_Range.median()\n",
        "\n",
        "# Resultados\n",
        "print(f\"Media con escalamiento por rangos: {media_Range}\")\n",
        "print(f\"Mediana con escalamiento por rangos: {mediana_Range}\")"
      ],
      "metadata": {
        "colab": {
          "base_uri": "https://localhost:8080/"
        },
        "id": "dLJjRSSCxkfT",
        "outputId": "38d94a9c-e021-4d02-e282-499fddd4f679"
      },
      "execution_count": 146,
      "outputs": [
        {
          "output_type": "stream",
          "name": "stdout",
          "text": [
            "Media con escalamiento por rangos: X    0.5\n",
            "dtype: float64\n",
            "Mediana con escalamiento por rangos: X    0.5\n",
            "dtype: float64\n"
          ]
        }
      ]
    },
    {
      "cell_type": "markdown",
      "source": [
        "### **e) Repetir el apartado anterior con el escalamiento Z - score**"
      ],
      "metadata": {
        "id": "XVEHF-r_0eCE"
      }
    },
    {
      "cell_type": "code",
      "source": [
        "# Standard scaler (Z-score)\n",
        "preprocessor_SS = ColumnTransformer(\n",
        "    [('scale', StandardScaler(), numeric_cols)], remainder='passthrough'\n",
        ")\n",
        "Data_prep_SS = preprocessor_SS.fit_transform(Data)\n",
        "\n",
        "# Creación de DataFrame\n",
        "Data_scaled_Z = pd.DataFrame(Data_prep_SS, columns=numeric_cols)\n",
        "\n",
        "# Cálculo de media y mediana de las variables escaladas\n",
        "media_Z = Data_scaled_Z.mean()\n",
        "mediana_Z = Data_scaled_Z.median()\n",
        "\n",
        "# Resultados\n",
        "print(f\"Media con escalamiento Z-score: {media_Z}\")\n",
        "print(f\"Mediana con escalamiento Z-score: {mediana_Z}\")"
      ],
      "metadata": {
        "colab": {
          "base_uri": "https://localhost:8080/"
        },
        "id": "OqVEkl_I0i0r",
        "outputId": "167a3d23-1e10-42e9-9768-44f861dd2915"
      },
      "execution_count": 147,
      "outputs": [
        {
          "output_type": "stream",
          "name": "stdout",
          "text": [
            "Media con escalamiento Z-score: X   -6.661338e-17\n",
            "dtype: float64\n",
            "Mediana con escalamiento Z-score: X    0.0\n",
            "dtype: float64\n"
          ]
        }
      ]
    }
  ]
}